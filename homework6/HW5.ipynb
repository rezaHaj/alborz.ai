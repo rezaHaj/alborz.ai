{
 "cells": [
  {
   "cell_type": "markdown",
   "id": "8a2b4c6d",
   "metadata": {},
   "source": [
    "# Assignment 5: File Handling, Comprehension, Modules\n",
    "\n",
    "**Course:** AbzumsAI Programming 1404\n",
    "\n",
    "**Instructor:** Mr. Ali Mohammadzadeh Shabestari\n",
    "\n",
    "**Date Assigned:** July 16, 2025\n",
    "\n",
    "**Deadline:** July 20, 2025"
   ]
  },
  {
   "cell_type": "markdown",
   "id": "5e3f8a1b",
   "metadata": {},
   "source": [
    "## 🔹 3.1 File Handling"
   ]
  },
  {
   "cell_type": "markdown",
   "id": "d4e5f7a2",
   "metadata": {},
   "source": [
    "### 📝 Task 1: Read a text file\n",
    "\n",
    "Create a text file named 'sample.txt' with some content, then read and print its contents.\n",
    "\n",
    "**Expected Output:**\n",
    "```\n",
    "[Content of your file]\n",
    "```"
   ]
  },
  {
   "cell_type": "code",
   "execution_count": 5,
   "id": "b3c8d9f1",
   "metadata": {},
   "outputs": [
    {
     "name": "stdout",
     "output_type": "stream",
     "text": [
      "this is a sample test to check my application is working well.\n",
      "try209!\n",
      "\n"
     ]
    }
   ],
   "source": [
    "# write your code here\n",
    "with open (\"sample.txt\",\"w\") as file :\n",
    "    content=file.write(\"this is a sample test to check my application is working well.\\ntry209!\\n\")\n",
    "with open (\"sample.txt\",\"r\") as file:\n",
    "    d=file.read()\n",
    "    print(d)"
   ]
  },
  {
   "cell_type": "markdown",
   "id": "e5f6g7h8",
   "metadata": {},
   "source": [
    "### 📝 Task 2: Write to a CSV file\n",
    "\n",
    "Create a CSV file named 'data.csv' and write the following data:\n",
    "```\n",
    "Name,Age,Occupation\n",
    "Alice,30,Engineer\n",
    "Bob,25,Designer\n",
    "```"
   ]
  },
  {
   "cell_type": "code",
   "execution_count": 7,
   "id": "i9j0k1l2",
   "metadata": {},
   "outputs": [
    {
     "name": "stdout",
     "output_type": "stream",
     "text": [
      "    Name  Age Occupation\n",
      "0  Alice   30    enginer\n",
      "1    Bob   25   designer\n"
     ]
    },
    {
     "data": {
      "text/html": [
       "<div>\n",
       "<style scoped>\n",
       "    .dataframe tbody tr th:only-of-type {\n",
       "        vertical-align: middle;\n",
       "    }\n",
       "\n",
       "    .dataframe tbody tr th {\n",
       "        vertical-align: top;\n",
       "    }\n",
       "\n",
       "    .dataframe thead th {\n",
       "        text-align: right;\n",
       "    }\n",
       "</style>\n",
       "<table border=\"1\" class=\"dataframe\">\n",
       "  <thead>\n",
       "    <tr style=\"text-align: right;\">\n",
       "      <th></th>\n",
       "      <th>Name</th>\n",
       "      <th>Age</th>\n",
       "      <th>Occupation</th>\n",
       "    </tr>\n",
       "  </thead>\n",
       "  <tbody>\n",
       "    <tr>\n",
       "      <th>0</th>\n",
       "      <td>Alice</td>\n",
       "      <td>30</td>\n",
       "      <td>enginer</td>\n",
       "    </tr>\n",
       "    <tr>\n",
       "      <th>1</th>\n",
       "      <td>Bob</td>\n",
       "      <td>25</td>\n",
       "      <td>designer</td>\n",
       "    </tr>\n",
       "  </tbody>\n",
       "</table>\n",
       "</div>"
      ],
      "text/plain": [
       "    Name  Age Occupation\n",
       "0  Alice   30    enginer\n",
       "1    Bob   25   designer"
      ]
     },
     "execution_count": 7,
     "metadata": {},
     "output_type": "execute_result"
    }
   ],
   "source": [
    "# write your code here\n",
    "import pandas as pd\n",
    "#method 1 khodesh besaze csv ro.\n",
    "data = {\n",
    "    \"Name\": [\"Alice\", \"Bob\",],\n",
    "    \"Age\": [30, 25],\n",
    "    \"Occupation\": [\"enginer\",\"designer\"]\n",
    "}\n",
    "\n",
    "df = pd.DataFrame(data)\n",
    "df.to_csv(\"data.csv\", index=False)\n",
    "\n",
    "df = pd.read_csv(\"data.csv\")\n",
    "print(df)\n",
    "\n",
    "#method 2 khodm csv ro besazm in bekhone.\n",
    "df=pd.read_csv(\"data1.csv\",sep=\",\")\n",
    "df.head()\n"
   ]
  },
  {
   "cell_type": "markdown",
   "id": "q7r8s9t0",
   "metadata": {},
   "source": [
    "### 📝 Task 3: JSON file operations\n",
    "\n",
    "Create a dictionary, save it to a JSON file named 'config.json', then read it back and print it.\n",
    "\n",
    "**Expected Output:**\n",
    "```\n",
    "{'name': 'Test', 'value': 42}\n",
    "```"
   ]
  },
  {
   "cell_type": "code",
   "execution_count": 55,
   "id": "u1v2w3x4",
   "metadata": {},
   "outputs": [
    {
     "name": "stdout",
     "output_type": "stream",
     "text": [
      "{'name': 'Test', 'value': 42}\n"
     ]
    }
   ],
   "source": [
    "# write your code here\n",
    "import json\n",
    "\n",
    "config = {\"name\": \"Test\", \"value\": 42}\n",
    "\n",
    "with open(\"config.json\", \"w\") as f:\n",
    "    json.dump(config, f)\n",
    "\n",
    "with open(\"config.json\", \"r\") as f:\n",
    "    data = json.load(f)\n",
    "\n",
    "print(data)\n"
   ]
  },
  {
   "cell_type": "markdown",
   "id": "c9d8e7f6",
   "metadata": {},
   "source": [
    "## 🔹 3.2 Comprehensions"
   ]
  },
  {
   "cell_type": "markdown",
   "id": "g5h4i3j2",
   "metadata": {},
   "source": [
    "### 📝 Task 1: List comprehension\n",
    "\n",
    "Create a list of squares for numbers 0 through 9 using list comprehension.\n",
    "\n",
    "**Expected Output:**\n",
    "```\n",
    "[0, 1, 4, 9, 16, 25, 36, 49, 64, 81]\n",
    "```"
   ]
  },
  {
   "cell_type": "code",
   "execution_count": 12,
   "id": "k1l2m3n4",
   "metadata": {},
   "outputs": [
    {
     "name": "stdout",
     "output_type": "stream",
     "text": [
      "[0, 1, 4, 9, 16, 25, 36, 49, 64, 81]\n"
     ]
    }
   ],
   "source": [
    "# write your code here\n",
    "\n",
    "new=[x**2 for x in [0,1,2,3,4,5,6,7,8,9]]\n",
    "print(new)"
   ]
  },
  {
   "cell_type": "markdown",
   "id": "s9t0u1v2",
   "metadata": {},
   "source": [
    "### 📝 Task 2: Dictionary comprehension\n",
    "\n",
    "Create a dictionary where keys are numbers 1 through 5 and values are their cubes.\n",
    "\n",
    "**Expected Output:**\n",
    "```\n",
    "{1: 1, 2: 8, 3: 27, 4: 64, 5: 125}\n",
    "```"
   ]
  },
  {
   "cell_type": "code",
   "execution_count": 52,
   "id": "w3x4y5z6",
   "metadata": {},
   "outputs": [
    {
     "name": "stdout",
     "output_type": "stream",
     "text": [
      "{1: 1, 2: 8, 3: 27, 4: 64, 5: 125}\n"
     ]
    }
   ],
   "source": [
    "# write your code here\n",
    "cubes={num:num**3 for num in range(1,6)}\n",
    "print(cubes)"
   ]
  },
  {
   "cell_type": "markdown",
   "id": "e1f2g3h4",
   "metadata": {},
   "source": [
    "### 📝 Task 3: Filtered list comprehension\n",
    "\n",
    "Create a list of even numbers from 0 to 20 using list comprehension with a condition.\n",
    "\n",
    "**Expected Output:**\n",
    "```\n",
    "[0, 2, 4, 6, 8, 10, 12, 14, 16, 18, 20]\n",
    "```"
   ]
  },
  {
   "cell_type": "code",
   "execution_count": 23,
   "id": "i5j6k7l8",
   "metadata": {},
   "outputs": [
    {
     "name": "stdout",
     "output_type": "stream",
     "text": [
      "[0, 2, 4, 6, 8, 10, 12, 14, 16, 18, 20]\n"
     ]
    }
   ],
   "source": [
    "# write your code here\n",
    "n=[0,1,2,3,4,5,6,7,8,9,10,11,12,13,14,15,16,17,18,19,20]\n",
    "even=[x for x in n if x%2==0]\n",
    "print(even)"
   ]
  },
  {
   "cell_type": "markdown",
   "id": "m9n0o1p2",
   "metadata": {},
   "source": [
    "<details>\n",
    "<summary>🔍 Click to reveal the solution</summary>\n",
    "\n",
    "```python\n",
    "evens = [x for x in range(21) if x % 2 == 0]\n",
    "print(evens)\n",
    "```\n",
    "\n",
    "</details>"
   ]
  },
  {
   "cell_type": "markdown",
   "id": "q3r4s5t6",
   "metadata": {},
   "source": [
    "## 🔹 3.3 Modules and Packages"
   ]
  },
  {
   "cell_type": "markdown",
   "id": "u7v8w9x0",
   "metadata": {},
   "source": [
    "### 📝 Task 1: Import a module\n",
    "\n",
    "Import the math module and calculate the square root of 16.\n",
    "\n",
    "**Expected Output:**\n",
    "```\n",
    "4.0\n",
    "```"
   ]
  },
  {
   "cell_type": "code",
   "execution_count": 8,
   "id": "y1z2a3b4",
   "metadata": {},
   "outputs": [
    {
     "name": "stdout",
     "output_type": "stream",
     "text": [
      "4.0\n"
     ]
    }
   ],
   "source": [
    "# write your code here\n",
    "from math import sqrt\n",
    "p=sqrt(16)\n",
    "print(p)"
   ]
  },
  {
   "cell_type": "markdown",
   "id": "g9h0i1j2",
   "metadata": {},
   "source": [
    "### 📝 Task 2: Import specific function\n",
    "\n",
    "From the random module, import the randint function and generate a random number between 1 and 10.\n",
    "\n",
    "**Note:** Output will vary as it's random."
   ]
  },
  {
   "cell_type": "code",
   "execution_count": 11,
   "id": "k3l4m5n6",
   "metadata": {},
   "outputs": [
    {
     "name": "stdout",
     "output_type": "stream",
     "text": [
      "3\n"
     ]
    }
   ],
   "source": [
    "# write your code here\n",
    "import random\n",
    "i=random.randint(1,10)\n",
    "print(i)"
   ]
  },
  {
   "cell_type": "markdown",
   "id": "s1t2u3v4",
   "metadata": {},
   "source": [
    "### 📝 Task 3: Create and import your own module\n",
    "\n",
    "1. Create a file named `mymodule.py` with a function `greet(name)` that returns \"Hello, [name]!\"\n",
    "2. Import and use this function in your notebook.\n",
    "\n",
    "**Expected Output:**\n",
    "```\n",
    "Hello, Alice!\n",
    "```"
   ]
  },
  {
   "cell_type": "code",
   "execution_count": 51,
   "id": "w5x6y7z8",
   "metadata": {},
   "outputs": [
    {
     "name": "stdout",
     "output_type": "stream",
     "text": [
      "Hello,jafar!\n"
     ]
    }
   ],
   "source": [
    "# write your code here\n",
    "from mymodule import greet\n",
    "print(greet(\"jafar\"))"
   ]
  },
  {
   "cell_type": "markdown",
   "id": "e3f4g5h6",
   "metadata": {},
   "source": [
    "### 📝 Task 4: Package import\n",
    "\n",
    "Import the datetime module and print the current date in the format: YYYY-MM-DD.\n",
    "\n",
    "**Note:** Output will vary based on current date."
   ]
  },
  {
   "cell_type": "code",
   "execution_count": 47,
   "id": "i7j8k9l0",
   "metadata": {},
   "outputs": [
    {
     "name": "stdout",
     "output_type": "stream",
     "text": [
      "25-07-20\n"
     ]
    }
   ],
   "source": [
    "# write your code here\n",
    "from datetime import datetime\n",
    "#t=datetime.today()\n",
    "#print(t)\n",
    "formattedt=datetime.today().strftime(\"%y-%m-%d\")\n",
    "print(formattedt)\n"
   ]
  }
 ],
 "metadata": {
  "kernelspec": {
   "display_name": "base",
   "language": "python",
   "name": "python3"
  },
  "language_info": {
   "codemirror_mode": {
    "name": "ipython",
    "version": 3
   },
   "file_extension": ".py",
   "mimetype": "text/x-python",
   "name": "python",
   "nbconvert_exporter": "python",
   "pygments_lexer": "ipython3",
   "version": "3.13.5"
  }
 },
 "nbformat": 4,
 "nbformat_minor": 5
}

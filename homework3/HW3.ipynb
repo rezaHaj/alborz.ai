{
 "cells": [
  {
   "cell_type": "markdown",
   "id": "971de089",
   "metadata": {},
   "source": [
    "# Assignment 3: Functions, Lambda, Exception Handling\n",
    "\n",
    "**Course:** AbzumsAI Programming 1404\n",
    "\n",
    "**Instructor:** Mr. Ali Mohammadzadeh Shabestari\n",
    "\n",
    "**Date Assigned:** June 28, 2025\n",
    "\n",
    "**Deadline:** July 2, 2025"
   ]
  },
  {
   "cell_type": "markdown",
   "id": "08247c0f",
   "metadata": {},
   "source": [
    "## Learning Objectives\n",
    "\n",
    "By the end of this notebook, you will:\n",
    "\n",
    "- Define and call functions with parameters and return values in Python.\n",
    "- Use default parameters and understand how functions improve code reusability.\n",
    "- Create and apply anonymous functions using lambda syntax.\n",
    "- Use lambda with built-in functions like `map()` and `filter()` to process data concisely.\n",
    "- Handle runtime errors gracefully using `try` and `except` blocks.\n",
    "- Write robust programs that validate user input and prevent crashes due to exceptions.\n",
    "\n",
    "---"
   ]
  },
  {
   "cell_type": "markdown",
   "id": "20adfbee",
   "metadata": {},
   "source": [
    "# Cell 0: Student Information\n",
    "\n",
    "### Please enter your details for grading purposes:\n",
    "\n",
    "Your Name: \n",
    "\n",
    "Your Email:\n",
    "\n",
    "Your GtiHub Link:"
   ]
  },
  {
   "cell_type": "markdown",
   "id": "f52707df",
   "metadata": {},
   "source": [
    "## Cell 1: Basic Function Definition"
   ]
  },
  {
   "cell_type": "markdown",
   "id": "0e9b1c2c",
   "metadata": {},
   "source": [
    "Write a function called `greet` that\n",
    "- Takes a name as input, and prints \"Hello, `name`!\"\n"
   ]
  },
  {
   "cell_type": "code",
   "execution_count": null,
   "id": "e32c723b",
   "metadata": {},
   "outputs": [],
   "source": [
    "# write your code here\n",
    "def greet(name=\"reza\"):\n",
    "    print(f\"hello {name}!\")\n",
    "x=input(\"Enter your name: \")\n",
    "greet(x)"
   ]
  },
  {
   "cell_type": "markdown",
   "id": "343fbe55",
   "metadata": {},
   "source": [
    "## Cell 2: Function with Return Value"
   ]
  },
  {
   "cell_type": "markdown",
   "id": "ec478dc6",
   "metadata": {},
   "source": [
    "Write a function `analyze_numbers` that takes two numbers as input. The function should:\n",
    "- Print both numbers\n",
    "- Calculate their sum\n",
    "- Print whether the sum is even or odd\n",
    "- Return the sum\n",
    "\n"
   ]
  },
  {
   "cell_type": "code",
   "execution_count": null,
   "id": "8061cdba",
   "metadata": {},
   "outputs": [],
   "source": [
    "# write your code here\n",
    "def analyze_numbers (x,y):\n",
    "    print(x)\n",
    "    print(y)\n",
    "    p=x+y\n",
    "    z=p%2\n",
    "    if z==0:\n",
    "        print(\"Even\")\n",
    "    else:\n",
    "        print(\"odd\")   \n",
    "    return p\n",
    "x=int(input(\"enter number: \"))\n",
    "y=int(input(\"enter number: \")) \n",
    "analyze_numbers(x,y)"
   ]
  },
  {
   "cell_type": "markdown",
   "id": "0711bafc",
   "metadata": {},
   "source": [
    "## Cell 3: Fucntion with Multiple Return Value"
   ]
  },
  {
   "cell_type": "markdown",
   "id": "c1532d72",
   "metadata": {},
   "source": [
    "Write a function called find_a_b that takes two numbers as input:\n",
    "- The sum of two unknown numbers (x + y)\n",
    "- The difference of those same two numbers (x - y)\n",
    "\n",
    "The function should:\n",
    "- Calculate and return the original numbers x and y in order (x, y)\n",
    "- Assume that x > y"
   ]
  },
  {
   "cell_type": "code",
   "execution_count": null,
   "id": "2fc06915",
   "metadata": {},
   "outputs": [],
   "source": [
    "# write your code here\n",
    "def find_a_b(a,b):\n",
    "    if a>=b:\n",
    "        x=a\n",
    "        y=b\n",
    "    else:\n",
    "        x=b\n",
    "        y=a\n",
    "    z=x+y\n",
    "    print(z)\n",
    "    q=x-y\n",
    "    print(q)\n",
    "    return(a,b)\n",
    "a=int(input(\"enter number: \"))\n",
    "b=int(input(\"enter number: \"))\n",
    "find_a_b(a,b)"
   ]
  },
  {
   "cell_type": "markdown",
   "id": "884813ad",
   "metadata": {},
   "source": [
    "## Cell 4: Function with Default Argument"
   ]
  },
  {
   "cell_type": "markdown",
   "id": "a37e7992",
   "metadata": {},
   "source": [
    "Read the function below carefully.\n",
    "- In your own words, explain what this function does step by step.\n",
    "- Write your explanation in the following cell 👇"
   ]
  },
  {
   "cell_type": "markdown",
   "id": "f09b013a",
   "metadata": {},
   "source": [
    "🌱 Your Answer:"
   ]
  },
  {
   "cell_type": "code",
   "execution_count": null,
   "id": "7c224bb3",
   "metadata": {},
   "outputs": [],
   "source": [
    "def calculate_discounted_price(price, discount=10, tax=5):\n",
    "    print(f\"Original price: ${price}\")\n",
    "    #  عدد اول که اجباریه:این تابع مبلغ رو میگیره از مشتری که همون\n",
    "    #  کاربر هست و بعد عدد دوم درصد تخفیف هست که اختیاریه چون ما\n",
    "    #  پیش فرضمون 10 هست و مبلغ سوم مالیات که پیش فرض ما ۵ هست که اینم اختیاریه.\n",
    "    discount_amount = price * (discount / 100)\n",
    "    #محاسبه در صد تخفیف\n",
    "    price_after_discount = price - discount_amount\n",
    "    print(f\"Discount ({discount}%): -${discount_amount}\")#اعلام درصد تخفیف و قیمت کسر شده به کاربر\n",
    "    print(f\"Price after discount: ${price_after_discount}\")        #قیمت پس از تخفیف\n",
    "    tax_amount = price_after_discount * (tax / 100)#اعلام درصد مالیات به کاربر\n",
    "    \n",
    "    final_price = price_after_discount + tax_amount # مبلغ پرداختی نهایی شامل کسر تخفیف و اضافه شدن مالیات\n",
    "    \n",
    "    print(f\"Tax ({tax}%): +${tax_amount}\")#راعلام درصد مالیات و مبلغ اضافه شده به کارب\n",
    "    print(f\"Final price: ${final_price}\")# مبلغ پرداختی نهایی شامل کسر تخفیف و اضافه شدن مالیات\n",
    "    \n",
    "    return round(final_price, 2)#بازگشت خروجی به تابع \n",
    "\n",
    "# Example usage:\n",
    "calculate_discounted_price(100)#محاسبه برای مبلغ ۱۰۰"
   ]
  },
  {
   "cell_type": "markdown",
   "id": "f52389fd",
   "metadata": {},
   "source": [
    "## Cell 5: Lambda with `map()`"
   ]
  },
  {
   "cell_type": "markdown",
   "id": "9e6be806",
   "metadata": {},
   "source": [
    "You are given a list of full names in the format \"First Last\".\n",
    "- Use `map()` and a `lambda` function to extract only the first names from the list."
   ]
  },
  {
   "cell_type": "code",
   "execution_count": null,
   "id": "ee4c20c3",
   "metadata": {},
   "outputs": [],
   "source": [
    "full_names = [\"Alexander Fleming\", \"Elizabeth Blackwell\", \"Edward Jenner\", \"William Osler\"]\n",
    "# write your code here\n",
    "first_names=list(map(lambda name:name.split()[0,full_names]))\n",
    "print(first_names)"
   ]
  },
  {
   "cell_type": "markdown",
   "id": "11355cd8",
   "metadata": {},
   "source": [
    "## Cell 6: Lambda with `filter()`"
   ]
  },
  {
   "cell_type": "markdown",
   "id": "3a9dd04a",
   "metadata": {},
   "source": [
    "You are given a list of user dictionaries. Each user has a name, age, and an \"active\" status.\n",
    "Use `filter()` and a `lambda` function to select users who:\n",
    "- Are at least 18 years old\n",
    "- Have 'active' set to True\n",
    "\n",
    "💡 Make use of `and` operator"
   ]
  },
  {
   "cell_type": "code",
   "execution_count": null,
   "id": "4dd5903d",
   "metadata": {},
   "outputs": [],
   "source": [
    "users = [\n",
    "    {\"name\": \"Ali\", \"age\": 17, \"active\": True},\n",
    "    {\"name\": \"Sara\", \"age\": 22, \"active\": False},\n",
    "    {\"name\": \"Reza\", \"age\": 19, \"active\": True},\n",
    "    {\"name\": \"Lina\", \"age\": 25, \"active\": True},\n",
    "    {\"name\": \"Mona\", \"age\": 16, \"active\": True},\n",
    "    {\"name\": \"Javad\", \"age\": 20, \"active\": False},\n",
    "]\n",
    "\n",
    "# write your code here\n",
    "active_adults=list(filter(lambda user:user[\"age\"]>=18 and user[\"active\"],users))\n",
    "print(active_adults)"
   ]
  },
  {
   "cell_type": "markdown",
   "id": "3c88871f",
   "metadata": {},
   "source": [
    "## Cell 7: Exception Handling"
   ]
  },
  {
   "cell_type": "markdown",
   "id": "70f56881",
   "metadata": {},
   "source": [
    "Carefully read the following code.\n",
    "- Do NOT run or modify it yet.\n",
    "- In the next cell, explain in your own words what this program does, step by step. 👇"
   ]
  },
  {
   "cell_type": "markdown",
   "id": "4e9e5779",
   "metadata": {},
   "source": [
    "🌱 Your Answer:"
   ]
  },
  {
   "cell_type": "code",
   "execution_count": null,
   "id": "42bbaecd",
   "metadata": {},
   "outputs": [],
   "source": [
    "while True:#halghe bi nahayat tarif kardid ke ta zamani ke karbar yek taghsim motabar vared kone edame peyda mikonad.\n",
    "    try:#estefade az try except bray modiriat khta\n",
    "        numerator = float(input(\"Enter the numerator: \"))#daryaft sorat kasr\n",
    "        denominator = float(input(\"Enter the denominator: \"))#daryaft makhraj kasr\n",
    "\n",
    "        result = numerator / denominator#hasel kasr\n",
    "    except ValueError:#modiriat khata darsorati ke karbar data type gheir adadi vared konad.\n",
    "        print(\"⚠️ Please enter valid numeric values.\")#errory ke kar bar dar natije khatay fogh mighirad.\n",
    "        continue#parydan az in dade.\n",
    "    except ZeroDivisionError:#khayta zamani ke makhraj 0 hast.\n",
    "        print(\"⚠️ Denominator cannot be zero. Try again.\")#errory ke kar bar dar natije khatay fogh mighirad.\n",
    "        continue\n",
    "    else:\n",
    "        print(f\"✅ Result: {round(result, 3)}\")#dar sorat bi naghs bodan dade vorody in ebarat be karbar namayesh dade mishe.\n",
    "        break#shekastan halgh .\n",
    "    finally:\n",
    "        print(\"📘 Thank you for using the divider.\\n\")#zamani ke code kaml run shod in payam be karbar namayesh dade mishe."
   ]
  }
 ],
 "metadata": {
  "kernelspec": {
   "display_name": "Python 3",
   "language": "python",
   "name": "python3"
  },
  "language_info": {
   "codemirror_mode": {
    "name": "ipython",
    "version": 3
   },
   "file_extension": ".py",
   "mimetype": "text/x-python",
   "name": "python",
   "nbconvert_exporter": "python",
   "pygments_lexer": "ipython3",
   "version": "3.12.0rc1"
  }
 },
 "nbformat": 4,
 "nbformat_minor": 5
}

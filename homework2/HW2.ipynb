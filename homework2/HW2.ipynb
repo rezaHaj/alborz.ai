{
 "cells": [
  {
   "cell_type": "markdown",
   "id": "d9bcc2b8",
   "metadata": {},
   "source": [
    "# Assignment 2: Control Flow, Loop\n",
    "\n",
    "**Course:** AbzumsAI Programming 1404\n",
    "\n",
    "**Instructor:** Mr. Ali Mohammadzadeh Shabestari\n",
    "\n",
    "**Date Assigned:** June 15, 2025\n",
    "\n",
    "**Deadline:** June 18, 2025"
   ]
  },
  {
   "cell_type": "markdown",
   "id": "6e9a9d57",
   "metadata": {},
   "source": [
    "## Learning Objectives\n",
    "\n",
    "By the end of this notebook, you will:\n",
    "\n",
    "- Understand how to control program flow using if, elif, and else statements.\n",
    "\n",
    "- Learn how to write nested if statements and apply logical operators (and, or, not).\n",
    "\n",
    "- Use for loops to iterate over ranges, lists, strings, and other iterable objects.\n",
    "\n",
    "- Use while loops to execute code repeatedly while a condition is true.\n",
    "\n",
    "- Apply loop control statements (break and continue) to modify loop behavior.\n",
    "\n",
    "---"
   ]
  },
  {
   "cell_type": "markdown",
   "id": "bc082db1",
   "metadata": {},
   "source": [
    "# Cell 0: Student Information\n",
    "\n",
    "### Please enter your details for grading purposes:\n",
    "\n",
    "Your Name:Reza hg\n",
    "\n",
    "Your Email:rhg1819@gmail.com\n",
    "\n",
    "Your Gthub Link:https://github.com/rezaHaj/alborz.ai.git"
   ]
  },
  {
   "cell_type": "markdown",
   "id": "b60f1c78",
   "metadata": {},
   "source": [
    "## Cell 1: `if`, `elif`, `else` Control Flow"
   ]
  },
  {
   "cell_type": "markdown",
   "id": "09b5c94a",
   "metadata": {},
   "source": [
    "Write a program that reads a temperature (integer input).\n",
    "\n",
    "- If temperature > 30, print \"It's a hot day.\"\n",
    "\n",
    "- If temperature > 20, print \"It's a nice day.\"\n",
    "\n",
    "- If temperature > 10, print \"It's a bit chilly.\"\n",
    "\n",
    "- Otherwise, print \"It's cold outside.\""
   ]
  },
  {
   "cell_type": "code",
   "execution_count": null,
   "id": "23744f8c",
   "metadata": {},
   "outputs": [],
   "source": [
    "# write your code here\n",
    "temp=int(input(\"enter temperature: \"))\n",
    "if temp>30:\n",
    "    print(\"It's a hot day.\")\n",
    "\n",
    "elif temp>20:\n",
    "    print(\"it's a nice day.\")\n",
    "\n",
    "elif temp >10:\n",
    "    print(\"it's a bit chilly.\")\n",
    "else:\n",
    "    print(\"it's cold day.\")"
   ]
  },
  {
   "cell_type": "markdown",
   "id": "60e5a456",
   "metadata": {},
   "source": [
    "## Cell 2: Nested `if` statements"
   ]
  },
  {
   "cell_type": "markdown",
   "id": "86b9f19e",
   "metadata": {},
   "source": [
    "Check concert eligibility.\n",
    "\n",
    "- Read user's age (integer input) and whether they have a ticket (boolean input: True/False).\n",
    "\n",
    "- If the user is 18 or older AND has a ticket, print \"You can enter the concert.\"\n",
    "\n",
    "- If the user is 18 or older BUT doesn't have a ticket, print \"You need a ticket to enter.\"\n",
    "\n",
    "- Otherwise, print \"You are too young for the concert.\"\n"
   ]
  },
  {
   "cell_type": "code",
   "execution_count": null,
   "id": "34be97ed",
   "metadata": {},
   "outputs": [],
   "source": [
    "# write your code here\n",
    "age=int(input(\"enter your age: \"))\n",
    "ticket=int(input(\"do you have the ticket(if yes=1 and if you don't have=0 ): \"))\n",
    "print(ticket)\n",
    "if age >=18 and ticket==True:\n",
    "    print(\"you can enter the account.\")\n",
    "elif age>=18 and ticket==False:\n",
    "    print(\"you need to buy tickets.\")\n",
    "else:\n",
    "    print(\"You are too young for the concert.\")"
   ]
  },
  {
   "cell_type": "markdown",
   "id": "2df49f77",
   "metadata": {},
   "source": [
    "## Cell 3: Iterating over collections"
   ]
  },
  {
   "cell_type": "markdown",
   "id": "fe3ac152",
   "metadata": {},
   "source": [
    "- Create a list of 5 fruits.\n",
    "\n",
    "- Use a for loop to print \"I like [fruit]\" for each fruit in the list.\n",
    "\n",
    "- Then iterate over the string \"Python\" and print each letter on a separate line.\n"
   ]
  },
  {
   "cell_type": "code",
   "execution_count": 7,
   "id": "d3c5e8bb",
   "metadata": {},
   "outputs": [
    {
     "name": "stdout",
     "output_type": "stream",
     "text": [
      "i like watwr melon \n",
      "i like banana \n",
      "i like apple \n",
      "i like orange \n",
      "i like coconut \n",
      "p\n",
      "y\n",
      "t\n",
      "h\n",
      "o\n",
      "n\n"
     ]
    }
   ],
   "source": [
    "# write your code here\n",
    "fruits=[\"watwr melon\",\"banana\",\"apple\",\"orange\",\"coconut\"]\n",
    "for r in fruits:\n",
    "    print(f\"i like {r} \")\n",
    "\n",
    "py=\"python\"\n",
    "for p in py:\n",
    "    print(p)"
   ]
  },
  {
   "cell_type": "markdown",
   "id": "7a9ee851",
   "metadata": {},
   "source": [
    "## Cell 4: `for` loop with `range()`"
   ]
  },
  {
   "cell_type": "markdown",
   "id": "bf0220d9",
   "metadata": {},
   "source": [
    "Use a for loop to:\n",
    "\n",
    "a) Print numbers from 1 to 10.\n",
    "\n",
    "b) Calculate and print the sum of numbers from 1 to 10.\n"
   ]
  },
  {
   "cell_type": "code",
   "execution_count": 5,
   "id": "f4255b85",
   "metadata": {},
   "outputs": [
    {
     "name": "stdout",
     "output_type": "stream",
     "text": [
      "1\n",
      "2\n",
      "3\n",
      "4\n",
      "5\n",
      "6\n",
      "7\n",
      "8\n",
      "9\n",
      "10\n",
      "sum=  55\n"
     ]
    }
   ],
   "source": [
    "# write your code here\n",
    "s=0\n",
    "for i in range(10):\n",
    "    i+=1\n",
    "    s=i+s\n",
    "    print(i)\n",
    "print(\"sum= \",s)"
   ]
  },
  {
   "cell_type": "markdown",
   "id": "fe210e58",
   "metadata": {},
   "source": [
    "## Cell 5: `while` loops and loop control (`break`, `continue`)"
   ]
  },
  {
   "cell_type": "markdown",
   "id": "e2ff6b31",
   "metadata": {},
   "source": [
    "Use a `while` loop to count from 1 upwards.\n",
    "\n",
    "- If count reaches 3, skip printing (use continue).\n",
    "\n",
    "- If count reaches 7, stop the loop (use break).\n",
    "\n",
    "- Otherwise, print the current count.\n"
   ]
  },
  {
   "cell_type": "code",
   "execution_count": 2,
   "id": "6d784b0d",
   "metadata": {},
   "outputs": [
    {
     "name": "stdout",
     "output_type": "stream",
     "text": [
      "1\n",
      "2\n",
      "4\n",
      "5\n",
      "6\n"
     ]
    }
   ],
   "source": [
    "# write your code here\n",
    "i=0\n",
    "while i <10000:\n",
    "    i+=1\n",
    "\n",
    "    if i == 3:\n",
    "        continue\n",
    "    elif i ==7:\n",
    "        break\n",
    "    print(i)"
   ]
  }
 ],
 "metadata": {
  "kernelspec": {
   "display_name": "Python 3",
   "language": "python",
   "name": "python3"
  },
  "language_info": {
   "codemirror_mode": {
    "name": "ipython",
    "version": 3
   },
   "file_extension": ".py",
   "mimetype": "text/x-python",
   "name": "python",
   "nbconvert_exporter": "python",
   "pygments_lexer": "ipython3",
   "version": "3.12.0rc1"
  }
 },
 "nbformat": 4,
 "nbformat_minor": 5
}
